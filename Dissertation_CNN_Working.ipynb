{
  "nbformat": 4,
  "nbformat_minor": 0,
  "metadata": {
    "colab": {
      "name": "Dissertation CNN Working.ipynb",
      "provenance": [],
      "collapsed_sections": []
    },
    "kernelspec": {
      "name": "python3",
      "display_name": "Python 3"
    },
    "accelerator": "GPU"
  },
  "cells": [
    {
      "cell_type": "code",
      "metadata": {
        "id": "kf4DIlXSYLAe",
        "colab_type": "code",
        "colab": {
          "base_uri": "https://localhost:8080/",
          "height": 34
        },
        "outputId": "fe0b3e7f-5e4f-4566-a0b3-4f84ad0381e2"
      },
      "source": [
        "from __future__ import absolute_import, division, print_function, unicode_literals\n",
        "\n",
        "try:\n",
        "  # %tensorflow_version only exists in Colab.\n",
        "  %tensorflow_version 2.x\n",
        "except Exception:\n",
        "  pass\n",
        "import tensorflow as tf\n",
        "\n",
        "from tensorflow.keras import datasets, layers, models\n",
        "import matplotlib.pyplot as plt\n",
        "import numpy as np\n",
        "from keras.preprocessing.image import load_img\n",
        "from keras.preprocessing.image import img_to_array\n",
        "from keras.preprocessing.image import array_to_img\n",
        "import seaborn as sn\n",
        "import time\n",
        "\n"
      ],
      "execution_count": 2,
      "outputs": [
        {
          "output_type": "stream",
          "text": [
            "Using TensorFlow backend.\n"
          ],
          "name": "stderr"
        }
      ]
    },
    {
      "cell_type": "code",
      "metadata": {
        "id": "FD1OpwHHYbgi",
        "colab_type": "code",
        "colab": {
          "base_uri": "https://localhost:8080/",
          "height": 51
        },
        "outputId": "47979210-cefd-4e18-f41e-72076c4f04b4"
      },
      "source": [
        "\n",
        "# Download CIFAR-10 dataset from Keras\n",
        "# Data comes already split between training and testing\n",
        "# Data split: 50000 Training images | 10000 Testing images\n",
        "\n",
        "(train_images, train_labels), (test_images, test_labels) = datasets.cifar10.load_data()\n",
        "\n",
        "\n"
      ],
      "execution_count": 3,
      "outputs": [
        {
          "output_type": "stream",
          "text": [
            "Downloading data from https://www.cs.toronto.edu/~kriz/cifar-10-python.tar.gz\n",
            "170500096/170498071 [==============================] - 6s 0us/step\n"
          ],
          "name": "stdout"
        }
      ]
    },
    {
      "cell_type": "code",
      "metadata": {
        "id": "8cGX1eQJqxU_",
        "colab_type": "code",
        "colab": {}
      },
      "source": [
        "# Normalise pixel values between 0 and 1\n",
        "train_images, test_images = train_images / 255.0, test_images / 255.0\n",
        "\n",
        "\n"
      ],
      "execution_count": 0,
      "outputs": []
    },
    {
      "cell_type": "code",
      "metadata": {
        "id": "8UzfS625TPMx",
        "colab_type": "code",
        "colab": {}
      },
      "source": [
        "# CIFAR-10 contains 10 classes\n",
        "# Define label names\n",
        "label_names = ['airplane', 'automobile', 'bird', 'cat', 'deer',\n",
        "               'dog', 'frog', 'horse', 'ship', 'truck']\n"
      ],
      "execution_count": 0,
      "outputs": []
    },
    {
      "cell_type": "code",
      "metadata": {
        "id": "m4pAjOaXaUqq",
        "colab_type": "code",
        "colab": {}
      },
      "source": [
        "# DEFINE FULLY CONNECTED NETWORKS\n",
        "\n",
        "def fully1():\n",
        "  model = models.Sequential()\n",
        "  model.add(layers.Dense(64, input_shape=(32, 32, 3)))\n",
        "  return model\n",
        "\n",
        "def fully2():\n",
        "  model = models.Sequential()\n",
        "  model.add(layers.Dense(64, input_shape=(32, 32, 3)))\n",
        "  model.add(layers.Dense(64, activation=\"relu\"))\n",
        "  return model\n",
        "\n",
        "def fully3():\n",
        "  model = models.Sequential()\n",
        "  model.add(layers.Dense(64, input_shape=(32, 32, 3)))\n",
        "  model.add(layers.Dense(64, activation=\"relu\"))\n",
        "  model.add(layers.Dense(64, activation=\"relu\"))\n",
        "  return model\n",
        "\n",
        "def fully4():\n",
        "  model = models.Sequential()\n",
        "  model.add(layers.Dense(128, input_shape=(32, 32, 3)))\n",
        "  return model\n",
        "\n",
        "def fully5():\n",
        "  model = models.Sequential()\n",
        "  model.add(layers.Dense(64, input_shape = (32, 32, 3)))\n",
        "  model.add(layers.Dropout(0.5))\n",
        "\n",
        "  return model\n",
        "\n",
        "def fully6():\n",
        "  model = models.Sequential()\n",
        "  model.add(layers.Dense(64, input_shape=(32, 32, 3)))\n",
        "  model.add(layers.Dropout(0.5))\n",
        "  model.add(layers.Dense(64, activation=\"relu\"))\n",
        "  return model\n",
        "\n",
        "def fully7():\n",
        "  model = models.Sequential()\n",
        "  model.add(layers.Dense(64, input_shape=(32, 32, 3)))\n",
        "  model.add(layers.Dropout(0.5))\n",
        "  model.add(layers.Dense(64, activation=\"relu\"))\n",
        "  model.add(layers.Dropout(0.5))\n",
        "  model.add(layers.Dense(64, activation=\"relu\"))\n",
        "\n",
        "\n",
        "  return model\n",
        "\n",
        "def fully8():\n",
        "  model = models.Sequential()\n",
        "  model.add(layers.Dense(64, input_shape=(32, 32, 3)))\n",
        "  model.add(layers.MaxPooling2D((2, 2)))\n",
        "  model.add(layers.Dense(64, activation=\"relu\"))\n",
        "  model.add(layers.Dense(64, activation=\"relu\"))\n",
        "  model.add(layers.Dropout(0.5))\n",
        "\n",
        "  return model\n",
        "\n",
        "def fully9():\n",
        "  model = models.Sequential()\n",
        "  model.add(layers.Dense(64, input_shape=(32, 32, 3)))\n",
        "  model.add(layers.MaxPooling2D((2, 2)))\n",
        "  model.add(layers.Dense(64, activation=\"relu\"))\n",
        "  model.add(layers.Dropout(0.5))\n",
        "  model.add(layers.Dense(64, activation=\"relu\"))\n",
        "  model.add(layers.Dense(32, activation=\"relu\"))\n",
        "\n",
        "  return model  \n",
        "\n",
        "\n",
        "\n",
        "def fully10():\n",
        "  model = models.Sequential()\n",
        "  model.add(layers.Dense(64, input_shape=(32, 32, 3)))\n",
        "  model.add(layers.MaxPooling2D((2, 2)))\n",
        "  model.add(layers.Dense(64, activation=\"relu\"))\n",
        "  model.add(layers.Dropout(0.5))\n",
        "\n",
        "  return model\n",
        "\n",
        "\n",
        "\"\"\"\n",
        "DEFINING CONVOLUTIONAL NETWORK MODELS\n",
        "\"\"\"\n",
        "\n",
        "def conv1():\n",
        "  model = models.Sequential()\n",
        "  # cifar data is 32x32 with 3 colour channels (RGB)\n",
        "  model.add(layers.Conv2D(32, (3, 3), activation='relu', input_shape=(32, 32, 3)))\n",
        "  # pooling dimensions represent the scale to downscale the inputs to a smaller feature map\n",
        "  model.add(layers.MaxPooling2D((2, 2)))\n",
        "\n",
        "  return model\n",
        "\n",
        "def conv2():\n",
        "  model = models.Sequential()\n",
        "  model.add(layers.Conv2D(32, (3, 3), activation='relu', input_shape=(32, 32, 3)))\n",
        "  model.add(layers.MaxPooling2D((2, 2)))\n",
        "  model.add(layers.Conv2D(64, (3, 3), activation='relu'))\n",
        "\n",
        "  return model\n",
        "\n",
        "\n",
        "def conv3():\n",
        "  model = models.Sequential()\n",
        "  model.add(layers.Conv2D(32, (3, 3), activation='relu', input_shape=(32, 32, 3)))\n",
        "  model.add(layers.Conv2D(64, (3, 3), activation='relu'))\n",
        "  model.add(layers.Conv2D(64, (3, 3), activation='relu'))\n",
        "  model.add(layers.Conv2D(64, (3, 3), activation='relu'))\n",
        "\n",
        "  return model\n",
        "\n",
        "def conv4():\n",
        "  # Conv -> MaxPool -> Conv -> MaxPool -> Conv -> Conv -> MaxPool\n",
        "  model = models.Sequential()\n",
        "  model.add(layers.Conv2D(32, (3, 3), activation='relu', input_shape=(32, 32, 3)))\n",
        "  model.add(layers.MaxPooling2D((2, 2)))\n",
        "  model.add(layers.Conv2D(64, (3, 3), activation='relu'))\n",
        "  model.add(layers.MaxPooling2D((2, 2)))\n",
        "  model.add(layers.Conv2D(64, (3, 3), activation='relu'))\n",
        "  model.add(layers.Conv2D(64, (3, 3), activation='relu'))\n",
        "  model.add(layers.MaxPooling2D((2, 2)))\n",
        "\n",
        "  return model\n",
        "\n",
        "\n",
        "def conv5():\n",
        "  model = models.Sequential()\n",
        "  model.add(layers.Conv2D(32, (3,3), activation='relu', input_shape=(32,32,3)))\n",
        "  model.add(layers.Conv2D(64, (3, 3), activation='relu'))\n",
        "  model.add(layers.MaxPooling2D((2, 2)))\n",
        "  model.add(layers.Conv2D(64, (3, 3), activation='relu'))\n",
        "  model.add(layers.Conv2D(64, (3, 3), activation='relu'))\n",
        "  model.add(layers.Conv2D(64, (3, 3), activation='relu'))\n",
        "  model.add(layers.MaxPooling2D((2, 2)))\n",
        "\n",
        "  return model\n",
        "\n",
        "def conv6():\n",
        "  model = models.Sequential()\n",
        "  model.add(layers.Conv2D(32, (3,3), activation='relu', input_shape=(32,32,3)))\n",
        "  model.add(layers.Conv2D(64, (3, 3), activation='relu'))\n",
        "  model.add(layers.MaxPooling2D((2, 2)))\n",
        "  model.add(layers.Conv2D(96, (3, 3), activation='relu'))\n",
        "  model.add(layers.Conv2D(64, (3, 3), activation='relu'))\n",
        "  model.add(layers.Conv2D(64, (3, 3), activation='relu'))\n",
        "  model.add(layers.MaxPooling2D((2, 2)))\n",
        "\n",
        "  return model\n",
        "\n",
        "def conv7():\n",
        "  model = models.Sequential()\n",
        "  model.add(layers.Conv2D(32, (3,3), activation='relu', input_shape=(32,32,3)))\n",
        "  model.add(layers.Conv2D(64, (3, 3), activation='relu'))\n",
        "  model.add(layers.MaxPooling2D((2, 2)))\n",
        "  model.add(layers.Conv2D(96, (3, 3), activation='relu'))\n",
        "  model.add(layers.Conv2D(96, (3, 3), activation='relu'))\n",
        "  model.add(layers.Conv2D(96, (3, 3), activation='relu'))\n",
        "  model.add(layers.MaxPooling2D((2, 2)))\n",
        "\n",
        "  return model\n",
        "\n",
        "\n",
        "def conv8():\n",
        "  model = models.Sequential()\n",
        "  model.add(layers.Conv2D(32, (3,3), activation='relu', input_shape=(32,32,3)))\n",
        "  model.add(layers.Conv2D(64, (3, 3), activation='relu'))\n",
        "  model.add(layers.MaxPooling2D((2, 2)))\n",
        "  model.add(layers.Conv2D(64, (3, 3), activation='relu'))\n",
        "  model.add(layers.Conv2D(64, (3, 3), activation='relu'))\n",
        "  model.add(layers.Conv2D(64, (3, 3), activation='relu'))\n",
        "  model.add(layers.MaxPooling2D((2, 2)))\n",
        "  model.add(layers.Conv2D(64, (3, 3), activation='relu'))\n",
        "  model.add(layers.MaxPooling2D((2, 2)))\n",
        "\n",
        "  return model\n",
        "\n",
        "\n",
        "def conv9():\n",
        "  model = models.Sequential()\n",
        "  model.add(layers.Conv2D(32, (3, 3), activation='relu', input_shape=(32, 32, 3)))\n",
        "  model.add(layers.MaxPooling2D((2, 2)))\n",
        "  model.add(layers.Conv2D(64, (3, 3), activation='relu'))\n",
        "  model.add(layers.Conv2D(64, (3, 3), activation='relu'))\n",
        "  model.add(layers.Conv2D(64, (3, 3), activation='relu'))\n",
        "\n",
        "  return model\n",
        "\n",
        "\n",
        "def conv10():\n",
        "  model = models.Sequential()\n",
        "  model.add(layers.Conv2D(32, (3, 3), activation='relu', input_shape=(32, 32, 3)))\n",
        "  model.add(layers.MaxPooling2D((2, 2)))\n",
        "  model.add(layers.Conv2D(64, (3, 3), activation='relu'))\n",
        "  model.add(layers.Conv2D(128, (3, 3), activation='relu'))\n",
        "  model.add(layers.Conv2D(256, (3, 3), activation='relu'))\n",
        "  model.add(layers.MaxPooling2D((2, 2)))\n",
        "\n",
        "  return model\n",
        "\n"
      ],
      "execution_count": 0,
      "outputs": []
    },
    {
      "cell_type": "code",
      "metadata": {
        "id": "eeqf8Nx8bVEe",
        "colab_type": "code",
        "colab": {}
      },
      "source": [
        "# Flatten layers\n",
        "# create 10 output channels\n",
        "# Mimics the final fully connected layer of a network\n",
        "\n",
        "def flattenLayers(model):\n",
        "  model.add(layers.Flatten())\n",
        "  model.add(layers.Dense(64, activation=\"relu\"))\n",
        "  model.add(layers.Dense(10, activation=\"softmax\"))\n",
        "\n",
        "  return model\n"
      ],
      "execution_count": 0,
      "outputs": []
    },
    {
      "cell_type": "code",
      "metadata": {
        "id": "A8xMtRzhc5R8",
        "colab_type": "code",
        "colab": {}
      },
      "source": [
        "# Build and train the model \n",
        "\n",
        "\n",
        "def compileNet(net):\n",
        "  \"\"\"\n",
        "  - takes in a flattened network as an input\n",
        "  - returns a compiled \n",
        "  \"\"\"\n",
        "  # compile model https://www.tensorflow.org/guide/keras/functional  \n",
        "  net.compile(optimizer='adam',\n",
        "                loss='sparse_categorical_crossentropy',\n",
        "                metrics=['accuracy'])\n",
        "  return net\n",
        "\n",
        "def getNetworkHistory(compiled_network):\n",
        "  \"\"\"\n",
        "  - takes a compiled network as an input\n",
        "  - returns network history from evaluating performance on training and test \n",
        "    data sets\n",
        "  \"\"\"\n",
        "  # fit model\n",
        "  network_history = convNet.fit(train_images, train_labels, epochs=epochs, \n",
        "                      validation_data=(test_images, test_labels))\n",
        "  return network_history\n",
        "\n"
      ],
      "execution_count": 0,
      "outputs": []
    },
    {
      "cell_type": "code",
      "metadata": {
        "id": "nYI-e40fj3ke",
        "colab_type": "code",
        "colab": {}
      },
      "source": [
        "def plotGraph(history):\n",
        "  plt.plot(history.history['accuracy'], label='accuracy')\n",
        "  plt.plot(history.history['val_accuracy'], label = 'val_accuracy')\n",
        "  plt.legend(loc='lower right')\n",
        "  plt.xlabel('Epochs')\n",
        "  plt.ylabel('Accuracy')\n",
        "\n",
        "def getTestMetrics(trained_net):\n",
        "  \"\"\"\n",
        "  - takes a compiled and trained network as input\n",
        "  - prints test set evaluation metrics \n",
        "  \"\"\"\n",
        "  test_loss, test_acc = convNet.evaluate(test_images,  test_labels, verbose=2)\n",
        "  print(\"Loss: \", test_loss)\n",
        "  print(\"Accuracy: \", test_acc)\n",
        "  \n",
        "  # train_loss, train_acc = convNet.evaluate(train_images, train_labels, verbose=2)\n",
        "  # print(\"Training loss\", train_loss)\n",
        "  # print(\"Training accuracy\", train_acc)\n",
        "\n",
        "\n",
        "def show_structure(flattened_net):\n",
        "  flattened_net.summary()\n",
        "  tf.keras.utils.plot_model(flattened_net, 'multi_input_and_output_model.png', show_shapes=False)\n",
        "\n",
        "\n"
      ],
      "execution_count": 0,
      "outputs": []
    },
    {
      "cell_type": "code",
      "metadata": {
        "id": "yWippGnDFtjn",
        "colab_type": "code",
        "outputId": "5d2c558a-ed01-41b5-ae03-b7a5580204d9",
        "colab": {
          "base_uri": "https://localhost:8080/",
          "height": 1000
        }
      },
      "source": [
        "epochs = 30\n",
        "\n",
        "# Enter the network to be used here\n",
        "net = fully10()\n",
        "\n",
        "# add the last fully connected layer\n",
        "convNet = flattenLayers(net)\n",
        "\n",
        "# display the networks structure as an iamge\n",
        "show_structure(convNet)\n",
        "\n",
        "# compile the network\n",
        "compiled_net = compileNet(convNet)\n",
        "\n",
        "# Train the network\n",
        "# recording the training length in seconds\n",
        "t_start = time.time()\n",
        "network_history = getNetworkHistory(compiled_net)\n",
        "t_end = time.time()\n",
        "\n",
        "t_total = t_end - t_start\n",
        "print(\"Elapsed time: \",t_total)\n",
        "\n",
        "# Display performance metrics\n",
        "plotGraph(network_history)\n",
        "getTestMetrics(convNet)\n"
      ],
      "execution_count": 10,
      "outputs": [
        {
          "output_type": "stream",
          "text": [
            "Model: \"sequential\"\n",
            "_________________________________________________________________\n",
            "Layer (type)                 Output Shape              Param #   \n",
            "=================================================================\n",
            "dense (Dense)                (None, 32, 32, 64)        256       \n",
            "_________________________________________________________________\n",
            "max_pooling2d (MaxPooling2D) (None, 16, 16, 64)        0         \n",
            "_________________________________________________________________\n",
            "dense_1 (Dense)              (None, 16, 16, 64)        4160      \n",
            "_________________________________________________________________\n",
            "dropout (Dropout)            (None, 16, 16, 64)        0         \n",
            "_________________________________________________________________\n",
            "flatten (Flatten)            (None, 16384)             0         \n",
            "_________________________________________________________________\n",
            "dense_2 (Dense)              (None, 64)                1048640   \n",
            "_________________________________________________________________\n",
            "dense_3 (Dense)              (None, 10)                650       \n",
            "=================================================================\n",
            "Total params: 1,053,706\n",
            "Trainable params: 1,053,706\n",
            "Non-trainable params: 0\n",
            "_________________________________________________________________\n",
            "Epoch 1/30\n",
            "1563/1563 [==============================] - 7s 4ms/step - loss: 1.5574 - accuracy: 0.4496 - val_loss: 1.3615 - val_accuracy: 0.5223\n",
            "Epoch 2/30\n",
            "1563/1563 [==============================] - 7s 4ms/step - loss: 1.3565 - accuracy: 0.5213 - val_loss: 1.2884 - val_accuracy: 0.5486\n",
            "Epoch 3/30\n",
            "1563/1563 [==============================] - 7s 4ms/step - loss: 1.2845 - accuracy: 0.5444 - val_loss: 1.2625 - val_accuracy: 0.5530\n",
            "Epoch 4/30\n",
            "1563/1563 [==============================] - 7s 4ms/step - loss: 1.2335 - accuracy: 0.5641 - val_loss: 1.2504 - val_accuracy: 0.5586\n",
            "Epoch 5/30\n",
            "1563/1563 [==============================] - 8s 5ms/step - loss: 1.2033 - accuracy: 0.5748 - val_loss: 1.2281 - val_accuracy: 0.5669\n",
            "Epoch 6/30\n",
            "1563/1563 [==============================] - 7s 4ms/step - loss: 1.1740 - accuracy: 0.5866 - val_loss: 1.2387 - val_accuracy: 0.5623\n",
            "Epoch 7/30\n",
            "1563/1563 [==============================] - 7s 4ms/step - loss: 1.1509 - accuracy: 0.5941 - val_loss: 1.2281 - val_accuracy: 0.5633\n",
            "Epoch 8/30\n",
            "1563/1563 [==============================] - 7s 4ms/step - loss: 1.1274 - accuracy: 0.5994 - val_loss: 1.2162 - val_accuracy: 0.5740\n",
            "Epoch 9/30\n",
            "1563/1563 [==============================] - 7s 4ms/step - loss: 1.1092 - accuracy: 0.6098 - val_loss: 1.2345 - val_accuracy: 0.5692\n",
            "Epoch 10/30\n",
            "1563/1563 [==============================] - 7s 4ms/step - loss: 1.0898 - accuracy: 0.6144 - val_loss: 1.2085 - val_accuracy: 0.5721\n",
            "Epoch 11/30\n",
            "1563/1563 [==============================] - 7s 4ms/step - loss: 1.0752 - accuracy: 0.6202 - val_loss: 1.2030 - val_accuracy: 0.5769\n",
            "Epoch 12/30\n",
            "1563/1563 [==============================] - 7s 4ms/step - loss: 1.0582 - accuracy: 0.6290 - val_loss: 1.1921 - val_accuracy: 0.5795\n",
            "Epoch 13/30\n",
            "1563/1563 [==============================] - 7s 4ms/step - loss: 1.0464 - accuracy: 0.6304 - val_loss: 1.1819 - val_accuracy: 0.5880\n",
            "Epoch 14/30\n",
            "1563/1563 [==============================] - 7s 4ms/step - loss: 1.0353 - accuracy: 0.6330 - val_loss: 1.2071 - val_accuracy: 0.5757\n",
            "Epoch 15/30\n",
            "1563/1563 [==============================] - 7s 4ms/step - loss: 1.0180 - accuracy: 0.6390 - val_loss: 1.2141 - val_accuracy: 0.5751\n",
            "Epoch 16/30\n",
            "1563/1563 [==============================] - 7s 4ms/step - loss: 1.0093 - accuracy: 0.6419 - val_loss: 1.2183 - val_accuracy: 0.5799\n",
            "Epoch 17/30\n",
            "1563/1563 [==============================] - 7s 4ms/step - loss: 0.9998 - accuracy: 0.6465 - val_loss: 1.1914 - val_accuracy: 0.5826\n",
            "Epoch 18/30\n",
            "1563/1563 [==============================] - 7s 4ms/step - loss: 0.9912 - accuracy: 0.6487 - val_loss: 1.2302 - val_accuracy: 0.5671\n",
            "Epoch 19/30\n",
            "1563/1563 [==============================] - 7s 4ms/step - loss: 0.9812 - accuracy: 0.6522 - val_loss: 1.2174 - val_accuracy: 0.5803\n",
            "Epoch 20/30\n",
            "1563/1563 [==============================] - 7s 4ms/step - loss: 0.9683 - accuracy: 0.6536 - val_loss: 1.2509 - val_accuracy: 0.5700\n",
            "Epoch 21/30\n",
            "1563/1563 [==============================] - 7s 4ms/step - loss: 0.9613 - accuracy: 0.6604 - val_loss: 1.2165 - val_accuracy: 0.5844\n",
            "Epoch 22/30\n",
            "1563/1563 [==============================] - 7s 4ms/step - loss: 0.9503 - accuracy: 0.6632 - val_loss: 1.2216 - val_accuracy: 0.5849\n",
            "Epoch 23/30\n",
            "1563/1563 [==============================] - 7s 4ms/step - loss: 0.9442 - accuracy: 0.6640 - val_loss: 1.2210 - val_accuracy: 0.5827\n",
            "Epoch 24/30\n",
            "1563/1563 [==============================] - 7s 4ms/step - loss: 0.9399 - accuracy: 0.6686 - val_loss: 1.2191 - val_accuracy: 0.5843\n",
            "Epoch 25/30\n",
            "1563/1563 [==============================] - 7s 4ms/step - loss: 0.9271 - accuracy: 0.6712 - val_loss: 1.2381 - val_accuracy: 0.5816\n",
            "Epoch 26/30\n",
            "1563/1563 [==============================] - 7s 4ms/step - loss: 0.9189 - accuracy: 0.6710 - val_loss: 1.2243 - val_accuracy: 0.5842\n",
            "Epoch 27/30\n",
            "1563/1563 [==============================] - 7s 4ms/step - loss: 0.9102 - accuracy: 0.6783 - val_loss: 1.2098 - val_accuracy: 0.5832\n",
            "Epoch 28/30\n",
            "1563/1563 [==============================] - 7s 4ms/step - loss: 0.9015 - accuracy: 0.6806 - val_loss: 1.2367 - val_accuracy: 0.5802\n",
            "Epoch 29/30\n",
            "1563/1563 [==============================] - 7s 4ms/step - loss: 0.8974 - accuracy: 0.6827 - val_loss: 1.2447 - val_accuracy: 0.5837\n",
            "Epoch 30/30\n",
            "1563/1563 [==============================] - 7s 4ms/step - loss: 0.8953 - accuracy: 0.6837 - val_loss: 1.2468 - val_accuracy: 0.5754\n",
            "Elapsed time:  208.8147087097168\n",
            "313/313 - 1s - loss: 1.2468 - accuracy: 0.5754\n",
            "Loss:  1.246779203414917\n",
            "Accuracy:  0.5753999948501587\n"
          ],
          "name": "stdout"
        },
        {
          "output_type": "display_data",
          "data": {
            "image/png": "[encoded data removed]",
            "text/plain": [
              "<Figure size 432x288 with 1 Axes>"
            ]
          },
          "metadata": {
            "tags": [],
            "needs_background": "light"
          }
        }
      ]
    },
    {
      "cell_type": "code",
      "metadata": {
        "id": "8dH7bymuyu0y",
        "colab_type": "code",
        "outputId": "7bef3836-36a7-42bd-e3e7-b0e63ce17517",
        "colab": {
          "base_uri": "https://localhost:8080/",
          "height": 333
        }
      },
      "source": [
        "# prediction\n",
        "\n",
        "probability_model = tf.keras.Sequential([convNet, \n",
        "                                         tf.keras.layers.Softmax()])\n",
        "\n",
        "predictions = probability_model.predict(test_images)\n",
        "\n",
        "\n",
        "# define the size of the confusion matrix \n",
        "# and retrieve the respective number of predictions\n",
        "preds = []\n",
        "pred_size = 1000\n",
        "for i in range(pred_size):\n",
        "  preds.append(np.argmax(predictions[i]))\n",
        "\n",
        "# produce a confusion matrix\n",
        "conf_matrix = tf.math.confusion_matrix(preds, test_labels[:pred_size], num_classes=10)\n",
        "sn.heatmap(conf_matrix, annot=True, cmap=sn.color_palette(\"Blues\"))"
      ],
      "execution_count": 11,
      "outputs": [
        {
          "output_type": "stream",
          "text": [
            "/usr/local/lib/python3.6/dist-packages/statsmodels/tools/_testing.py:19: FutureWarning: pandas.util.testing is deprecated. Use the functions in the public API at pandas.testing instead.\n",
            "  import pandas.util.testing as tm\n"
          ],
          "name": "stderr"
        },
        {
          "output_type": "stream",
          "text": [
            "[9]\n"
          ],
          "name": "stdout"
        },
        {
          "output_type": "execute_result",
          "data": {
            "text/plain": [
              "<matplotlib.axes._subplots.AxesSubplot at 0x7f0073177860>"
            ]
          },
          "metadata": {
            "tags": []
          },
          "execution_count": 11
        },
        {
          "output_type": "display_data",
          "data": {
            "image/png": "[encoded data removed]",
            "text/plain": [
              "<Figure size 432x288 with 2 Axes>"
            ]
          },
          "metadata": {
            "tags": [],
            "needs_background": "light"
          }
        }
      ]
    },
    {
      "cell_type": "code",
      "metadata": {
        "id": "OgoGwtsOHofR",
        "colab_type": "code",
        "colab": {
          "base_uri": "https://localhost:8080/",
          "height": 383
        },
        "outputId": "0fcca1cf-ceb8-4b4b-eae5-976e1d32379e"
      },
      "source": [
        "def label_num_to_name(label_num):\n",
        "  name = label_names[label_num]\n",
        "  return name\n",
        "  \n",
        "\n",
        "\n",
        "def make_prediction(trained_network, img_num):\n",
        "    probability_model = tf.keras.Sequential([convNet, \n",
        "                                         tf.keras.layers.Softmax()])\n",
        "    predictions = probability_model.predict(test_images)\n",
        "    \n",
        "\n",
        "    # convert numpy array back to image\n",
        "    img = array_to_img(test_images[img_num])\n",
        "\n",
        "    # Prediction\n",
        "    pred = np.argmax(predictions[img_num])\n",
        "    pred_name = label_num_to_name(pred)\n",
        "    \n",
        "\n",
        "    # Truth\n",
        "    truth_num = test_labels[img_num][0]\n",
        "    truth_name = label_num_to_name(truth_num)\n",
        "\n",
        "    print(\"Prediction: \", pred,  pred_name)\n",
        "    print(\"Truth label: \", truth_num, truth_name)\n",
        "    \n",
        "    plt.figure(figsize=(1,1))\n",
        "    plt.imshow(img)\n",
        "    \n",
        "    plt.show()\n",
        "    \n",
        "\n",
        "def multiple_predicts(trained_network, array_of_img_nums):\n",
        "      probability_model = tf.keras.Sequential([convNet, \n",
        "                                          tf.keras.layers.Softmax()])\n",
        "      predictions = probability_model.predict(test_images)\n",
        "      \n",
        "      \n",
        "      for n in array_of_img_nums:\n",
        "        # convert numpy array back to image\n",
        "        img = array_to_img(test_images[n])\n",
        "\n",
        "        # Prediction\n",
        "        pred = np.argmax(predictions[n])\n",
        "        pred_name = label_num_to_name(pred)\n",
        "\n",
        "        # Truth\n",
        "        truth_num = test_labels[n][0]\n",
        "        truth_name = label_num_to_name(truth_num)\n",
        "      \n",
        "        plt.figure(figsize=(1,3))\n",
        "        plt.imshow(img)\n",
        "      \n",
        "      plt.show()\n",
        "    \n",
        "\n",
        "make_prediction(convNet, 13)\n",
        "make_prediction(convNet, 15)\n",
        "make_prediction(convNet, 4)\n",
        "\n",
        "\n",
        "# label_num_to_name(5)"
      ],
      "execution_count": 12,
      "outputs": [
        {
          "output_type": "stream",
          "text": [
            "Prediction:  7 horse\n",
            "Truth label:  7 horse\n"
          ],
          "name": "stdout"
        },
        {
          "output_type": "display_data",
          "data": {
            "image/png": "[encoded data removed]",
            "text/plain": [
              "<Figure size 72x72 with 1 Axes>"
            ]
          },
          "metadata": {
            "tags": [],
            "needs_background": "light"
          }
        },
        {
          "output_type": "stream",
          "text": [
            "Prediction:  8 ship\n",
            "Truth label:  8 ship\n"
          ],
          "name": "stdout"
        },
        {
          "output_type": "display_data",
          "data": {
            "image/png": "[encoded data removed]",
            "text/plain": [
              "<Figure size 72x72 with 1 Axes>"
            ]
          },
          "metadata": {
            "tags": [],
            "needs_background": "light"
          }
        },
        {
          "output_type": "stream",
          "text": [
            "Prediction:  6 frog\n",
            "Truth label:  6 frog\n"
          ],
          "name": "stdout"
        },
        {
          "output_type": "display_data",
          "data": {
            "image/png": "[encoded data removed]",
            "text/plain": [
              "<Figure size 72x72 with 1 Axes>"
            ]
          },
          "metadata": {
            "tags": [],
            "needs_background": "light"
          }
        }
      ]
    }
  ]
}