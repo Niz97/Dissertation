{
  "nbformat": 4,
  "nbformat_minor": 0,
  "metadata": {
    "colab": {
      "name": "Postures.ipynb",
      "provenance": [],
      "collapsed_sections": []
    },
    "kernelspec": {
      "name": "python3",
      "display_name": "Python 3"
    }
  },
  "cells": [
    {
      "cell_type": "code",
      "metadata": {
        "id": "2vP06FOowowW",
        "colab_type": "code",
        "outputId": "638e1ae9-6e90-4c0e-ac5e-9bc5f4a52f49",
        "colab": {
          "base_uri": "https://localhost:8080/",
          "height": 35
        }
      },
      "source": [
        "from google.colab import drive\n",
        "import os\n",
        "import numpy as np\n",
        "import time\n",
        "\n",
        "from keras.preprocessing.image import load_img\n",
        "from keras.preprocessing.image import img_to_array\n",
        "from keras.preprocessing.image import array_to_img\n",
        "\n",
        "from __future__ import absolute_import, division, print_function, unicode_literals\n",
        "\n",
        "try:\n",
        "  # %tensorflow_version only exists in Colab.\n",
        "  %tensorflow_version 2.x\n",
        "except Exception:\n",
        "  pass\n",
        "import tensorflow as tf\n",
        "\n",
        "from tensorflow.keras import datasets, layers, models\n",
        "import matplotlib.pyplot as plt\n",
        "import numpy as np\n",
        "\n",
        "\n",
        "drive.mount('/content/drive')"
      ],
      "execution_count": 16,
      "outputs": [
        {
          "output_type": "stream",
          "text": [
            "Drive already mounted at /content/drive; to attempt to forcibly remount, call drive.mount(\"/content/drive\", force_remount=True).\n"
          ],
          "name": "stdout"
        }
      ]
    },
    {
      "cell_type": "code",
      "metadata": {
        "id": "S-BLv-vw2-E8",
        "colab_type": "code",
        "outputId": "b556bbd2-3b7f-40ac-86ee-67fd8dd86eba",
        "colab": {
          "base_uri": "https://localhost:8080/",
          "height": 54
        }
      },
      "source": [
        "!ls \"/content/drive/My Drive/Datasets/refined posture dataset\"\n"
      ],
      "execution_count": 2,
      "outputs": [
        {
          "output_type": "stream",
          "text": [
            "postures1   postures2  postures4  postures6  postures8\n",
            "postures10  postures3  postures5  postures7  postures9\n"
          ],
          "name": "stdout"
        }
      ]
    },
    {
      "cell_type": "code",
      "metadata": {
        "id": "L11r9zKs4AJ6",
        "colab_type": "code",
        "colab": {}
      },
      "source": [
        "cwd = os.getcwd()\n",
        "\n",
        "dataset_location = '/drive/My Drive/Datasets/refined posture dataset'\n",
        "folder_num = 1\n",
        "data = cwd + dataset_location + '/postures'\n",
        "current_folder = data + str(folder_num)\n"
      ],
      "execution_count": 0,
      "outputs": []
    },
    {
      "cell_type": "code",
      "metadata": {
        "id": "WQKru9Y54IK9",
        "colab_type": "code",
        "colab": {}
      },
      "source": [
        "# load all bends\n",
        "\n",
        "def load_and_convert(posture_type):\n",
        "\tposture_type = str(posture_type)\n",
        "\tnp_data = []\n",
        "\n",
        "\tprint(\"Loading and converting \" + posture_type + \"...\\n\")\n",
        "\t# iterate over all 'bend' folders\n",
        "\tfor i in range(1,11): \n",
        "\t\tcurrent_folder = data + str(i) + '//' + posture_type\t\n",
        "\t\t# get file names in folder\n",
        "\t\tfolder = os.listdir(current_folder)\n",
        "\n",
        "\t\t# load and convert each image to numpy array\n",
        "\t\tfor image in folder:\n",
        "\t\t\timg = load_img(current_folder + '//' + image)\n",
        "\n",
        "\t\t\t# convert to numpy array\n",
        "\t\t\timg_array = img_to_array(img)\n",
        "\t\t\tnp_data.append(img_array)\n",
        "\t\t\t\n",
        "\treturn np_data"
      ],
      "execution_count": 0,
      "outputs": []
    },
    {
      "cell_type": "code",
      "metadata": {
        "id": "l6bdq8dQ4KV3",
        "colab_type": "code",
        "outputId": "7036959b-e2fb-459a-ddd8-18c3577305e6",
        "colab": {
          "base_uri": "https://localhost:8080/",
          "height": 182
        }
      },
      "source": [
        "start = time.time()\n",
        "all_bends = load_and_convert('bend')\n",
        "all_lie = load_and_convert('lie')\n",
        "all_sit = load_and_convert('sit')\n",
        "all_stand = load_and_convert('stand')\n",
        "end = time.time()\n",
        "print(end - start)\n",
        "\n",
        "# Time taken: 713.5104157924652 "
      ],
      "execution_count": 5,
      "outputs": [
        {
          "output_type": "stream",
          "text": [
            "Loading and converting bend...\n",
            "\n",
            "Loading and converting lie...\n",
            "\n",
            "Loading and converting sit...\n",
            "\n",
            "Loading and converting stand...\n",
            "\n",
            "713.5104157924652\n"
          ],
          "name": "stdout"
        }
      ]
    },
    {
      "cell_type": "code",
      "metadata": {
        "id": "wLI-0t8hebO1",
        "colab_type": "code",
        "colab": {}
      },
      "source": [
        "label_names = ['bend', 'lie', 'sit', 'stand']\n",
        "\n",
        "all_images = []\n",
        "all_images.extend(all_bends)\n",
        "all_images.extend(all_lie)\n",
        "all_images.extend(all_sit)\n",
        "all_images.extend(all_stand)\n",
        "len(all_images)\n",
        "\n",
        "# return a list of label names of length of the \n",
        "# given posture array\n",
        "def createLabels(lbl_name, posture_arr):\n",
        "  label = []\n",
        "  for i in range(len(posture_arr)):\n",
        "    label.append(lbl_name)\n",
        "  return label\n",
        "\n",
        "# generate labels arrays of the correct length\n",
        "bend_labels = createLabels(0, all_bends)\n",
        "lie_labels = createLabels(1, all_lie)\n",
        "sit_labels = createLabels(2, all_sit)\n",
        "stand_labels = createLabels(3, all_stand)\n",
        "\n",
        "labels = []\n",
        "labels.extend(bend_labels)\n",
        "labels.extend(lie_labels)\n",
        "labels.extend(sit_labels)\n",
        "labels.extend(stand_labels)\n"
      ],
      "execution_count": 0,
      "outputs": []
    },
    {
      "cell_type": "code",
      "metadata": {
        "id": "_B2aN3Ewjbej",
        "colab_type": "code",
        "colab": {}
      },
      "source": [
        "from sklearn.model_selection import train_test_split\n",
        "\n",
        "all_images = np.asarray(all_images)\n",
        "labels = np.asarray(labels)\n",
        "l = np.reshape(labels, (len(labels),1))\n",
        "\n",
        "\n",
        "train_images, test_images, train_labels, test_labels = train_test_split(all_images, l, test_size = 0.40)\n",
        "\n",
        "train_images = train_images / 255.0\n",
        "test_images = test_images / 255.0"
      ],
      "execution_count": 0,
      "outputs": []
    },
    {
      "cell_type": "code",
      "metadata": {
        "id": "fB_BvB1HgrFT",
        "colab_type": "code",
        "colab": {}
      },
      "source": [
        "def singleConv():\n",
        "  model = models.Sequential()\n",
        "  model.add(layers.Conv2D(30, (2, 2), activation='relu', input_shape=(30, 30, 2)))\n",
        "  model.add(layers.MaxPooling2D((2, 2)))\n",
        "  return model\n",
        "\n",
        "def test():\n",
        "  model = models.Sequential()\n",
        "  model.add(layers.Conv2D(30, (3, 3), activation='relu', input_shape=(30, 30, 3)))\n",
        "  model.add(layers.MaxPooling2D((2, 2)))\n",
        "\n",
        "  return model\n",
        "\n",
        "def doubleConv2D():\n",
        "  model = models.Sequential()\n",
        "  model.add(layers.Conv2D(60, (2, 2), activation='relu', input_shape=(30, 30, 2)))\n",
        "\n",
        "\n",
        "  return model\n",
        "\n",
        "\n",
        "def flattenLayers(model):\n",
        "  model.add(layers.Flatten())\n",
        "  model.add(layers.Dense(64, activation=\"relu\"))\n",
        "  model.add(layers.Dense(4, activation=\"softmax\"))\n",
        "\n",
        "  model.summary()\n",
        "  # tf.keras.utils.plot_model(model, 'multi_input_and_output_model.png', show_shapes=True)\n",
        "  return model"
      ],
      "execution_count": 0,
      "outputs": []
    },
    {
      "cell_type": "code",
      "metadata": {
        "id": "O06H8iUAhC4n",
        "colab_type": "code",
        "colab": {
          "base_uri": "https://localhost:8080/",
          "height": 348
        },
        "outputId": "938c6523-fe26-44da-e83e-e9d62d35e4ce"
      },
      "source": [
        "net = test()\n",
        "convNet = flattenLayers(net)"
      ],
      "execution_count": 143,
      "outputs": [
        {
          "output_type": "stream",
          "text": [
            "Model: \"sequential_9\"\n",
            "_________________________________________________________________\n",
            "Layer (type)                 Output Shape              Param #   \n",
            "=================================================================\n",
            "conv2d_12 (Conv2D)           (None, 28, 28, 30)        840       \n",
            "_________________________________________________________________\n",
            "max_pooling2d_8 (MaxPooling2 (None, 14, 14, 30)        0         \n",
            "_________________________________________________________________\n",
            "flatten_9 (Flatten)          (None, 5880)              0         \n",
            "_________________________________________________________________\n",
            "dense_18 (Dense)             (None, 64)                376384    \n",
            "_________________________________________________________________\n",
            "dense_19 (Dense)             (None, 4)                 260       \n",
            "=================================================================\n",
            "Total params: 377,484\n",
            "Trainable params: 377,484\n",
            "Non-trainable params: 0\n",
            "_________________________________________________________________\n"
          ],
          "name": "stdout"
        }
      ]
    },
    {
      "cell_type": "code",
      "metadata": {
        "id": "Wtzd83TFuFiE",
        "colab_type": "code",
        "colab": {
          "base_uri": "https://localhost:8080/",
          "height": 109
        },
        "outputId": "7c8ef678-4054-4917-904e-b6dd5479af67"
      },
      "source": [
        "print(np.shape(train_images))\n",
        "print(np.shape(train_labels))\n",
        "print(np.shape(test_images))\n",
        "print(np.shape(test_labels))"
      ],
      "execution_count": 138,
      "outputs": [
        {
          "output_type": "stream",
          "text": [
            "(2154, 30, 30, 3)\n",
            "(2154, 1)\n",
            "(1062, 30, 30, 3)\n",
            "(1062, 1)\n",
            "1062\n"
          ],
          "name": "stdout"
        }
      ]
    },
    {
      "cell_type": "code",
      "metadata": {
        "id": "6mB143mkhQxj",
        "colab_type": "code",
        "colab": {
          "base_uri": "https://localhost:8080/",
          "height": 384
        },
        "outputId": "8ca1c19f-18cc-4ad9-c759-011207fd3209"
      },
      "source": [
        "# build and compile\n",
        "convNet.compile(optimizer='adam',\n",
        "              loss='sparse_categorical_crossentropy',\n",
        "              metrics=['accuracy'])\n",
        "\n",
        "history = convNet.fit(train_images, train_labels, epochs=10, \n",
        "                    validation_data=(test_images, test_labels))\n"
      ],
      "execution_count": 144,
      "outputs": [
        {
          "output_type": "stream",
          "text": [
            "Epoch 1/10\n",
            "61/61 [==============================] - 1s 23ms/step - loss: 0.2701 - accuracy: 0.9020 - val_loss: 0.1284 - val_accuracy: 0.9557\n",
            "Epoch 2/10\n",
            "61/61 [==============================] - 2s 26ms/step - loss: 0.0755 - accuracy: 0.9730 - val_loss: 0.0740 - val_accuracy: 0.9790\n",
            "Epoch 3/10\n",
            "61/61 [==============================] - 1s 22ms/step - loss: 0.0351 - accuracy: 0.9917 - val_loss: 0.0559 - val_accuracy: 0.9790\n",
            "Epoch 4/10\n",
            "61/61 [==============================] - 1s 22ms/step - loss: 0.0321 - accuracy: 0.9907 - val_loss: 0.0446 - val_accuracy: 0.9907\n",
            "Epoch 5/10\n",
            "61/61 [==============================] - 1s 22ms/step - loss: 0.0120 - accuracy: 0.9979 - val_loss: 0.0362 - val_accuracy: 0.9891\n",
            "Epoch 6/10\n",
            "61/61 [==============================] - 1s 22ms/step - loss: 0.0066 - accuracy: 0.9995 - val_loss: 0.0369 - val_accuracy: 0.9915\n",
            "Epoch 7/10\n",
            "61/61 [==============================] - 1s 22ms/step - loss: 0.0033 - accuracy: 1.0000 - val_loss: 0.0272 - val_accuracy: 0.9946\n",
            "Epoch 8/10\n",
            "61/61 [==============================] - 1s 22ms/step - loss: 0.0023 - accuracy: 1.0000 - val_loss: 0.0326 - val_accuracy: 0.9930\n",
            "Epoch 9/10\n",
            "61/61 [==============================] - 1s 22ms/step - loss: 0.0014 - accuracy: 1.0000 - val_loss: 0.0272 - val_accuracy: 0.9930\n",
            "Epoch 10/10\n",
            "61/61 [==============================] - 1s 22ms/step - loss: 0.0014 - accuracy: 1.0000 - val_loss: 0.0272 - val_accuracy: 0.9961\n"
          ],
          "name": "stdout"
        }
      ]
    },
    {
      "cell_type": "code",
      "metadata": {
        "id": "h27GVKG86H_e",
        "colab_type": "code",
        "colab": {
          "base_uri": "https://localhost:8080/",
          "height": 389
        },
        "outputId": "ccf90955-dcfd-4758-a821-b82627f0e185"
      },
      "source": [
        "plt.plot(history.history['accuracy'], label='accuracy')\n",
        "plt.plot(history.history['val_accuracy'], label = 'val_accuracy')\n",
        "plt.xlabel('Epochs')\n",
        "plt.ylabel('Accuracy')\n",
        "\n",
        "test_loss, test_acc = convNet.evaluate(test_images,  test_labels, verbose=2)\n",
        "print(\"Loss: \", test_loss)\n",
        "print(\"Accuracy: \", test_acc)\n",
        "\n",
        "train_loss, train_acc = convNet.evaluate(train_images, train_labels, verbose=2)\n",
        "print(\"Training loss\", train_loss)\n",
        "print(\"Training accuracy\", train_acc)\n",
        "\n"
      ],
      "execution_count": 139,
      "outputs": [
        {
          "output_type": "stream",
          "text": [
            "34/34 - 0s - loss: 0.0329 - accuracy: 0.9962\n",
            "Loss:  0.03294416889548302\n",
            "Accuracy:  0.9962335228919983\n",
            "68/68 - 0s - loss: 2.1808e-04 - accuracy: 1.0000\n",
            "Training loss 0.0002180765150114894\n",
            "Training accuracy 1.0\n"
          ],
          "name": "stdout"
        },
        {
          "output_type": "display_data",
          "data": {
            "image/png": "[encoded data removed]",
            "text/plain": [
              "<Figure size 432x288 with 1 Axes>"
            ]
          },
          "metadata": {
            "tags": []
          }
        }
      ]
    }
  ]
}