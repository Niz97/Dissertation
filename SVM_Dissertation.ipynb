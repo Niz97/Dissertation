{
  "nbformat": 4,
  "nbformat_minor": 0,
  "metadata": {
    "colab": {
      "name": "SVM Dissertation.ipynb",
      "provenance": [],
      "collapsed_sections": []
    },
    "kernelspec": {
      "name": "python3",
      "display_name": "Python 3"
    }
  },
  "cells": [
    {
      "cell_type": "code",
      "metadata": {
        "id": "HPxXI8IuZrhX",
        "colab_type": "code",
        "colab": {}
      },
      "source": [
        "import os\n",
        "import time\n",
        "import numpy as np\n",
        "\n",
        "import matplotlib.pyplot as plt\n",
        "import matplotlib as mpl\n",
        "from tensorflow import keras\n",
        "%matplotlib inline\n"
      ],
      "execution_count": 0,
      "outputs": []
    },
    {
      "cell_type": "code",
      "metadata": {
        "id": "TOJQliMaZwk1",
        "colab_type": "code",
        "outputId": "bc9d21f1-fec6-4e66-ad8b-5f0fdc163377",
        "colab": {
          "base_uri": "https://localhost:8080/",
          "height": 68
        }
      },
      "source": [
        "from sklearn import datasets\n",
        "from keras.datasets import cifar10\n",
        "from sklearn.model_selection import train_test_split\n",
        "\n",
        "# load cifar data\n",
        "(train_images, train_labels), (test_images, test_labels) = keras.datasets.cifar10.load_data()\n",
        "\n",
        "# Normalise \n",
        "train_images, test_images = train_images / 255.0, test_images / 255.0\n",
        "\n"
      ],
      "execution_count": 2,
      "outputs": [
        {
          "output_type": "stream",
          "text": [
            "Using TensorFlow backend.\n"
          ],
          "name": "stderr"
        },
        {
          "output_type": "stream",
          "text": [
            "Downloading data from https://www.cs.toronto.edu/~kriz/cifar-10-python.tar.gz\n",
            "170500096/170498071 [==============================] - 4s 0us/step\n"
          ],
          "name": "stdout"
        }
      ]
    },
    {
      "cell_type": "code",
      "metadata": {
        "id": "cPhNPvfTabca",
        "colab_type": "code",
        "colab": {}
      },
      "source": [
        "# reshape data into the format scikit requires\n",
        "train_images = np.reshape(train_images, (train_images.shape[0], -1))\n",
        "train_labels = np.reshape(train_labels, (train_labels.shape[0], -1))\n",
        "test_images = np.reshape(test_images, (test_images.shape[0], -1))\n",
        "test_labels = np.reshape(test_labels, (test_labels.shape[0], -1))\n"
      ],
      "execution_count": 0,
      "outputs": []
    },
    {
      "cell_type": "code",
      "metadata": {
        "id": "08AmU-ziJr2H",
        "colab_type": "code",
        "colab": {}
      },
      "source": [
        "from sklearn import svm\n",
        "\n",
        "t_labels = np.squeeze(train_labels)\n",
        "\n",
        "def svm_clf(c, size):\n",
        "    \n",
        "  # classifier = svm.SVC(decision_function_shape='ovo')\n",
        "  classifier = svm.SVC(C = c)\n",
        "\n",
        "  classifier.fit(train_images[:size], t_labels[:size])\n",
        "\n",
        "  # pred = classifier.predict(train_images[:size])\n",
        "\n",
        "  score = classifier.score(train_images[:size], t_labels[:size])\n",
        "  print(score)\n",
        "  return classifier"
      ],
      "execution_count": 0,
      "outputs": []
    },
    {
      "cell_type": "code",
      "metadata": {
        "id": "HdmL85YZpxBW",
        "colab_type": "code",
        "outputId": "877010ff-2dbf-4b01-a34f-e01f28ad7034",
        "colab": {
          "base_uri": "https://localhost:8080/",
          "height": 85
        }
      },
      "source": [
        "\n",
        "# regularisation parameters\n",
        "reg_param = [0.1,1]\n",
        "\n",
        "# define different training sizes\n",
        "training_sizes = [1000, 2000, 3000, 4000, 50000, 10000]\n",
        "\n",
        "for i in training_sizes:\n",
        "  for c in reg_param:\n",
        "    print(\"C: \", c, \"Data size: \", i)\n",
        "\n",
        "    t_start = time.time()\n",
        "    svm_clf(c, i)\n",
        "    t_end = time.time()\n",
        "\n",
        "    t_total = t_end - t_start\n",
        "    print(\"Elapsed time: \",t_total)\n",
        "\n",
        "\n",
        "\n",
        "\n"
      ],
      "execution_count": 0,
      "outputs": [
        {
          "output_type": "stream",
          "text": [
            "C:  0.1 Data size:  1000\n",
            "0.258\n",
            "Elapsed time:  13.195138931274414\n",
            "C:  1 Data size:  1000\n"
          ],
          "name": "stdout"
        }
      ]
    },
    {
      "cell_type": "code",
      "metadata": {
        "id": "dADSjUTIyXbK",
        "colab_type": "code",
        "colab": {}
      },
      "source": [
        "# print(net.score(train_images[:s], t_labels[:s]))\n",
        "# print(netTwo.score(train_images[:s], t_labels[:s]))\n"
      ],
      "execution_count": 0,
      "outputs": []
    },
    {
      "cell_type": "code",
      "metadata": {
        "id": "EXcoL5HceEMx",
        "colab_type": "code",
        "colab": {}
      },
      "source": [
        ""
      ],
      "execution_count": 0,
      "outputs": []
    }
  ]
}